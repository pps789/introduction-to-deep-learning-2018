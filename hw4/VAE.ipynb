{
 "cells": [
  {
   "cell_type": "markdown",
   "metadata": {},
   "source": [
    "# VAE\n",
    "Variational autoencoder [1] models inherit autoencoder architecture, but make strong assumptions concerning the distribution of latent variables. They use variational approach for latent representation learning\n",
    "\n",
    "[1] Auto-Encoding Variational Bayes, Diederik P Kingma, Max Welling 2013"
   ]
  },
  {
   "cell_type": "code",
   "execution_count": 1,
   "metadata": {},
   "outputs": [
    {
     "name": "stderr",
     "output_type": "stream",
     "text": [
      "/anaconda/envs/py35/lib/python3.5/site-packages/h5py/__init__.py:36: FutureWarning: Conversion of the second argument of issubdtype from `float` to `np.floating` is deprecated. In future, it will be treated as `np.float64 == np.dtype(float).type`.\n",
      "  from ._conv import register_converters as _register_converters\n"
     ]
    }
   ],
   "source": [
    "# Setup\n",
    "import tensorflow as tf\n",
    "import numpy as np\n",
    "import matplotlib.pyplot as plt\n",
    "import matplotlib.gridspec as gridspec\n",
    "import os\n",
    "from tensorflow.examples.tutorials.mnist import input_data\n",
    "from tensorflow.contrib.slim import fully_connected as fc"
   ]
  },
  {
   "cell_type": "code",
   "execution_count": 2,
   "metadata": {},
   "outputs": [
    {
     "name": "stdout",
     "output_type": "stream",
     "text": [
      "Extracting ../../MNIST_data/train-images-idx3-ubyte.gz\n",
      "Extracting ../../MNIST_data/train-labels-idx1-ubyte.gz\n",
      "Extracting ../../MNIST_data/t10k-images-idx3-ubyte.gz\n",
      "Extracting ../../MNIST_data/t10k-labels-idx1-ubyte.gz\n"
     ]
    }
   ],
   "source": [
    "# Load MNIST data\n",
    "mnist = input_data.read_data_sets('../../MNIST_data', one_hot=True)\n",
    "X_dim = mnist.train.images.shape[1]\n",
    "y_dim = mnist.train.labels.shape[1]\n",
    "num_data = mnist.train.num_examples\n",
    "\n",
    "def plot(samples):\n",
    "    fig = plt.figure(figsize=(4, 4))\n",
    "    gs = gridspec.GridSpec(4, 4)\n",
    "    gs.update(wspace=0.05, hspace=0.05)\n",
    "\n",
    "    for i, sample in enumerate(samples):\n",
    "        ax = plt.subplot(gs[i])\n",
    "        plt.axis('off')\n",
    "        ax.set_xticklabels([])\n",
    "        ax.set_yticklabels([])\n",
    "        ax.set_aspect('equal')\n",
    "        plt.imshow(sample.reshape(28, 28), cmap='Greys_r')\n",
    "\n",
    "    return fig"
   ]
  },
  {
   "cell_type": "code",
   "execution_count": 127,
   "metadata": {},
   "outputs": [],
   "source": [
    "# Hyperparamters. Your job to find these.\n",
    "num_epochs = 201\n",
    "batch_size = 50\n",
    "z_dim = 20\n",
    "lr = 1e-4"
   ]
  },
  {
   "cell_type": "markdown",
   "metadata": {},
   "source": [
    "# Encoder \n",
    "Implement the encoder network $Q_\\phi(z \\mid x)$. Use Tensorflow's `fully_connected` function [API guide](https://www.tensorflow.org/api_docs/python/tf/contrib/layers/fully_connected) to write less lines or code. Use 3 shared FC layers and 1 FC layer at the end for the mean $\\mu(X_i)$ and another 1 FC layer at the end for the diagonal variance $\\sigma(X_i)$.\n",
    "\n",
    "Also, implement the reparameterization trick we talked about in the class.\n",
    "\n",
    "- Do take a look at the API and make sure to not use any non-linearities at the final layer!\n",
    "- Make it return log of the variance so we work with smaller numbers (for stability)!"
   ]
  },
  {
   "cell_type": "code",
   "execution_count": 128,
   "metadata": {},
   "outputs": [],
   "source": [
    "X = tf.placeholder(tf.float32, shape=[None, X_dim])\n",
    "\n",
    "def Q(X):\n",
    "    fc1 = tf.contrib.layers.fully_connected(X, 128)\n",
    "    fc2 = tf.contrib.layers.fully_connected(fc1, 128)\n",
    "    fc3 = tf.contrib.layers.fully_connected(fc2, 128)\n",
    "    z_mu = tf.contrib.layers.fully_connected(fc3, z_dim, activation_fn = None)\n",
    "    z_logvar = tf.contrib.layers.fully_connected(fc3, z_dim, activation_fn = None)\n",
    "    return z_mu, z_logvar\n",
    "    \n",
    "def sample_z(mu, log_var):\n",
    "    param = tf.random_normal(tf.shape(log_var))\n",
    "    reparameterized_sample = mu + tf.exp(0.5 * log_var) * param\n",
    "    return reparameterized_sample"
   ]
  },
  {
   "cell_type": "markdown",
   "metadata": {},
   "source": [
    "# Decoder\n",
    "Implement the decoder network $P_\\theta(X \\mid z)$. Use Tensorflow's `fully_connected` function [API guide](https://www.tensorflow.org/api_docs/python/tf/contrib/layers/fully_connected) to write less lines or code as well.\n",
    "\n",
    "In this exercise, we will use Bernoulli MLP decoder explained in Appendix C.1 in the original paper.\n",
    "\n",
    "Use 3 FC layers and 1 FC layer at the end for the unnormalized and normalized logits."
   ]
  },
  {
   "cell_type": "code",
   "execution_count": 129,
   "metadata": {},
   "outputs": [],
   "source": [
    "def P(z):\n",
    "    fc4 = tf.contrib.layers.fully_connected(z, 128)\n",
    "    fc5 = tf.contrib.layers.fully_connected(fc4, 128)\n",
    "    fc6 = tf.contrib.layers.fully_connected(fc5, 128, activation_fn = tf.nn.tanh)\n",
    "    logits = tf.contrib.layers.fully_connected(fc6, 784, activation_fn = None)\n",
    "    prob = tf.nn.sigmoid(logits)\n",
    "    return prob, logits"
   ]
  },
  {
   "cell_type": "markdown",
   "metadata": {},
   "source": [
    "# Rest of the graph\n",
    "We can define the rest of the network as below."
   ]
  },
  {
   "cell_type": "code",
   "execution_count": 130,
   "metadata": {},
   "outputs": [],
   "source": [
    "z_mu, z_logvar = Q(X)\n",
    "z_sample = sample_z(z_mu, z_logvar)\n",
    "X_samples, logits = P(z_sample)"
   ]
  },
  {
   "cell_type": "markdown",
   "metadata": {},
   "source": [
    "# Graph loss function\n",
    "You might find `tf.nn.sigmoid_cross_entropy_with_logits` function [API guide](https://www.tensorflow.org/api_docs/python/tf/nn/sigmoid_cross_entropy_with_logits) useful."
   ]
  },
  {
   "cell_type": "code",
   "execution_count": 131,
   "metadata": {},
   "outputs": [],
   "source": [
    "entropy = tf.reduce_sum(tf.nn.sigmoid_cross_entropy_with_logits(labels=X, logits=logits), axis=1)\n",
    "recon_loss = tf.reduce_mean(entropy)\n",
    "\n",
    "kl = -0.5 * tf.reduce_sum(z_logvar - (z_mu ** 2) - (tf.exp(z_logvar)) + 1, axis=1)\n",
    "kl_loss = tf.reduce_mean(kl)\n",
    "\n",
    "# Total loss\n",
    "vae_loss = recon_loss + kl_loss"
   ]
  },
  {
   "cell_type": "code",
   "execution_count": 134,
   "metadata": {},
   "outputs": [],
   "source": [
    "# Optimizer and solver\n",
    "solver = tf.train.AdamOptimizer(learning_rate=lr).minimize(vae_loss)\n",
    "sess = tf.InteractiveSession()\n",
    "sess.run(tf.global_variables_initializer())"
   ]
  },
  {
   "cell_type": "markdown",
   "metadata": {},
   "source": [
    "# Train a _great_ generative model on MNIST!\n",
    "\n",
    "Now, it's your job to experiment with hyperparameters defined in the beggining. The code below will also generate images and save the results to `figures/` directory. We are attaching the example images from our run and we expect your images to be of similar quality. \n",
    "![](out/080.png)\n"
   ]
  },
  {
   "cell_type": "code",
   "execution_count": 135,
   "metadata": {},
   "outputs": [
    {
     "name": "stdout",
     "output_type": "stream",
     "text": [
      "Epoch: 0, Loss: 196.4\n",
      "Epoch: 5, Loss: 187.2\n",
      "Epoch: 10, Loss: 178.5\n",
      "Epoch: 15, Loss: 154.7\n",
      "Epoch: 20, Loss: 148.0\n",
      "Epoch: 25, Loss: 145.3\n",
      "Epoch: 30, Loss: 148.1\n",
      "Epoch: 35, Loss: 149.2\n",
      "Epoch: 40, Loss: 144.9\n",
      "Epoch: 45, Loss: 148.1\n",
      "Epoch: 50, Loss: 140.8\n",
      "Epoch: 55, Loss: 128.0\n",
      "Epoch: 60, Loss: 138.6\n",
      "Epoch: 65, Loss: 134.6\n",
      "Epoch: 70, Loss: 126.2\n",
      "Epoch: 75, Loss: 134.1\n",
      "Epoch: 80, Loss: 123.5\n",
      "Epoch: 85, Loss: 125.0\n",
      "Epoch: 90, Loss: 131.3\n",
      "Epoch: 95, Loss: 127.1\n",
      "Epoch: 100, Loss: 127.0\n",
      "Epoch: 105, Loss: 115.4\n",
      "Epoch: 110, Loss: 125.5\n",
      "Epoch: 115, Loss: 124.5\n",
      "Epoch: 120, Loss: 121.5\n",
      "Epoch: 125, Loss: 119.6\n",
      "Epoch: 130, Loss: 123.8\n",
      "Epoch: 135, Loss: 124.0\n",
      "Epoch: 140, Loss: 125.3\n",
      "Epoch: 145, Loss: 123.5\n",
      "Epoch: 150, Loss: 113.1\n",
      "Epoch: 155, Loss: 118.6\n",
      "Epoch: 160, Loss: 117.6\n",
      "Epoch: 165, Loss: 110.6\n",
      "Epoch: 170, Loss: 116.8\n",
      "Epoch: 175, Loss: 111.2\n",
      "Epoch: 180, Loss: 117.5\n",
      "Epoch: 185, Loss: 110.4\n",
      "Epoch: 190, Loss: 127.8\n",
      "Epoch: 195, Loss: 121.1\n",
      "Epoch: 200, Loss: 118.1\n"
     ]
    }
   ],
   "source": [
    "if not os.path.exists('figures/'):\n",
    "    os.makedirs('figures/')\n",
    "\n",
    "for epoch in range(num_epochs):\n",
    "    for it in range(num_data // batch_size):\n",
    "        X_mb, _ = mnist.train.next_batch(batch_size)\n",
    "\n",
    "        _, loss = sess.run([solver, vae_loss], feed_dict={X: X_mb})\n",
    "\n",
    "    if epoch % 5 == 0:\n",
    "        print('Epoch: {}, Loss: {:.4}'. format(epoch, loss))\n",
    "\n",
    "        samples = sess.run(X_samples, feed_dict={z_sample: np.random.randn(16, z_dim)})\n",
    "\n",
    "        fig = plot(samples)\n",
    "        plt.savefig('figures/{}.png'.format(str(epoch).zfill(3)), bbox_inches='tight')\n",
    "        plt.close(fig)"
   ]
  },
  {
   "cell_type": "code",
   "execution_count": null,
   "metadata": {},
   "outputs": [],
   "source": []
  }
 ],
 "metadata": {
  "kernelspec": {
   "display_name": "Python 3",
   "language": "python",
   "name": "python3"
  },
  "language_info": {
   "codemirror_mode": {
    "name": "ipython",
    "version": 3
   },
   "file_extension": ".py",
   "mimetype": "text/x-python",
   "name": "python",
   "nbconvert_exporter": "python",
   "pygments_lexer": "ipython3",
   "version": "3.5.4"
  }
 },
 "nbformat": 4,
 "nbformat_minor": 2
}
